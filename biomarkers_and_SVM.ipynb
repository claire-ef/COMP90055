{
 "cells": [
  {
   "cell_type": "code",
   "execution_count": 38,
   "metadata": {},
   "outputs": [],
   "source": [
    "import pandas as pd\n",
    "import numpy as np\n",
    "from matplotlib import pyplot as plt\n",
    "from statistics import mean\n",
    "\n",
    "from sklearn.model_selection import train_test_split\n",
    "from sklearn import svm\n",
    "from sklearn.metrics import accuracy_score, precision_score, recall_score"
   ]
  },
  {
   "cell_type": "markdown",
   "metadata": {},
   "source": [
    "# Location Change Score"
   ]
  },
  {
   "cell_type": "code",
   "execution_count": 34,
   "metadata": {},
   "outputs": [],
   "source": [
    "def getLocationChange(filepath):\n",
    "    original_features = pd.read_csv(\"results/original_features.csv\", index_col=0)\n",
    "    original_features = original_features.iloc[:, 1:]\n",
    "    altered_features = pd.read_csv(filepath, index_col=0)\n",
    "    altered_features = altered_features.loc[original_features.index, :].iloc[:, 1:]\n",
    "    #return (abs(original_features-altered_features)/altered_features*100).mean()\n",
    "    return (100 - abs(altered_features-original_features)/altered_features*100).mean()"
   ]
  },
  {
   "cell_type": "markdown",
   "metadata": {},
   "source": [
    "## KumarSS"
   ]
  },
  {
   "cell_type": "code",
   "execution_count": 40,
   "metadata": {},
   "outputs": [
    {
     "name": "stdout",
     "output_type": "stream",
     "text": [
      "49.791538461538465\n"
     ]
    }
   ],
   "source": [
    "print(mean(round(getLocationChange(\"results/kumar_features.csv\"),2)))"
   ]
  },
  {
   "cell_type": "markdown",
   "metadata": {},
   "source": [
    "## Naseem"
   ]
  },
  {
   "cell_type": "code",
   "execution_count": 41,
   "metadata": {},
   "outputs": [
    {
     "name": "stdout",
     "output_type": "stream",
     "text": [
      "100.0\n"
     ]
    }
   ],
   "source": [
    "print(mean(round(getLocationChange(\"results/naseem_features.csv\"),2)))"
   ]
  },
  {
   "cell_type": "markdown",
   "metadata": {},
   "source": [
    "## C4S"
   ]
  },
  {
   "cell_type": "code",
   "execution_count": 42,
   "metadata": {},
   "outputs": [
    {
     "name": "stdout",
     "output_type": "stream",
     "text": [
      "81.53923076923077\n"
     ]
    }
   ],
   "source": [
    "print(mean(round(getLocationChange(\"results/c4s_features.csv\"), 2)))"
   ]
  },
  {
   "cell_type": "markdown",
   "metadata": {},
   "source": [
    "# Dispersion Score"
   ]
  },
  {
   "cell_type": "code",
   "execution_count": 15,
   "metadata": {},
   "outputs": [
    {
     "data": {
      "text/plain": [
       "11.5595405334875"
      ]
     },
     "execution_count": 15,
     "metadata": {},
     "output_type": "execute_result"
    }
   ],
   "source": [
    "original_features = pd.read_csv(\"results/original_features.csv\", index_col=0)\n",
    "original_features.groupby(by = [\"pneumonia\"]).min().loc[0, \"contrasts_1\"]"
   ]
  },
  {
   "cell_type": "code",
   "execution_count": 10,
   "metadata": {},
   "outputs": [
    {
     "data": {
      "text/html": [
       "<div>\n",
       "<style scoped>\n",
       "    .dataframe tbody tr th:only-of-type {\n",
       "        vertical-align: middle;\n",
       "    }\n",
       "\n",
       "    .dataframe tbody tr th {\n",
       "        vertical-align: top;\n",
       "    }\n",
       "\n",
       "    .dataframe thead th {\n",
       "        text-align: right;\n",
       "    }\n",
       "</style>\n",
       "<table border=\"1\" class=\"dataframe\">\n",
       "  <thead>\n",
       "    <tr style=\"text-align: right;\">\n",
       "      <th></th>\n",
       "      <th>contrasts_1</th>\n",
       "      <th>contrasts_2</th>\n",
       "      <th>contrasts_3</th>\n",
       "      <th>contrasts_4</th>\n",
       "      <th>homogeneitys_1</th>\n",
       "      <th>homogeneitys_2</th>\n",
       "      <th>homogeneitys_3</th>\n",
       "      <th>homogeneitys_4</th>\n",
       "      <th>energys_1</th>\n",
       "      <th>energys_2</th>\n",
       "      <th>energys_3</th>\n",
       "      <th>energys_4</th>\n",
       "      <th>etps</th>\n",
       "    </tr>\n",
       "    <tr>\n",
       "      <th>pneumonia</th>\n",
       "      <th></th>\n",
       "      <th></th>\n",
       "      <th></th>\n",
       "      <th></th>\n",
       "      <th></th>\n",
       "      <th></th>\n",
       "      <th></th>\n",
       "      <th></th>\n",
       "      <th></th>\n",
       "      <th></th>\n",
       "      <th></th>\n",
       "      <th></th>\n",
       "      <th></th>\n",
       "    </tr>\n",
       "  </thead>\n",
       "  <tbody>\n",
       "    <tr>\n",
       "      <th>0</th>\n",
       "      <td>87.076024</td>\n",
       "      <td>126.810247</td>\n",
       "      <td>89.791237</td>\n",
       "      <td>125.765270</td>\n",
       "      <td>0.532657</td>\n",
       "      <td>0.454599</td>\n",
       "      <td>0.528822</td>\n",
       "      <td>0.452506</td>\n",
       "      <td>0.002991</td>\n",
       "      <td>0.002244</td>\n",
       "      <td>0.002942</td>\n",
       "      <td>0.002246</td>\n",
       "      <td>7.89142</td>\n",
       "    </tr>\n",
       "    <tr>\n",
       "      <th>1</th>\n",
       "      <td>190.266993</td>\n",
       "      <td>210.021670</td>\n",
       "      <td>62.380062</td>\n",
       "      <td>207.443287</td>\n",
       "      <td>0.631807</td>\n",
       "      <td>0.537087</td>\n",
       "      <td>0.633715</td>\n",
       "      <td>0.540251</td>\n",
       "      <td>0.009353</td>\n",
       "      <td>0.009143</td>\n",
       "      <td>0.009495</td>\n",
       "      <td>0.009171</td>\n",
       "      <td>7.57102</td>\n",
       "    </tr>\n",
       "  </tbody>\n",
       "</table>\n",
       "</div>"
      ],
      "text/plain": [
       "           contrasts_1  contrasts_2  contrasts_3  contrasts_4  homogeneitys_1  \\\n",
       "pneumonia                                                                       \n",
       "0            87.076024   126.810247    89.791237   125.765270        0.532657   \n",
       "1           190.266993   210.021670    62.380062   207.443287        0.631807   \n",
       "\n",
       "           homogeneitys_2  homogeneitys_3  homogeneitys_4  energys_1  \\\n",
       "pneumonia                                                              \n",
       "0                0.454599        0.528822        0.452506   0.002991   \n",
       "1                0.537087        0.633715        0.540251   0.009353   \n",
       "\n",
       "           energys_2  energys_3  energys_4     etps  \n",
       "pneumonia                                            \n",
       "0           0.002244   0.002942   0.002246  7.89142  \n",
       "1           0.009143   0.009495   0.009171  7.57102  "
      ]
     },
     "execution_count": 10,
     "metadata": {},
     "output_type": "execute_result"
    }
   ],
   "source": [
    "original_features.groupby(by = [\"pneumonia\"]).max()"
   ]
  },
  {
   "cell_type": "code",
   "execution_count": 29,
   "metadata": {},
   "outputs": [],
   "source": [
    "def getDispersionScore(filepath):\n",
    "    features = pd.read_csv(filepath, index_col=0)\n",
    "    feature_names = features.columns[1:]\n",
    "    original_features = pd.read_csv(\"results/original_features.csv\", index_col=0)\n",
    "    features_min = original_features.groupby(by = [\"pneumonia\"]).min()\n",
    "    features_max = original_features.groupby(by = [\"pneumonia\"]).max()\n",
    "    dispersionScore = []\n",
    "    for i in range(0,len(feature_names)):\n",
    "        within=0\n",
    "        feature_name = feature_names[i]\n",
    "        feature_min = [features_min.loc[0, feature_name], features_min.loc[1, feature_name]]\n",
    "        feature_max = [features_max.loc[0, feature_name], features_max.loc[1, feature_name]]\n",
    "        for idx in features.index:\n",
    "            feature_value = features.loc[idx, feature_name]\n",
    "            if features.loc[idx, \"pneumonia\"] == 0:\n",
    "                if ((feature_value <= feature_max[0]) and (feature_value >= feature_min[0])):\n",
    "                    within += 1\n",
    "            else:\n",
    "                if ((feature_value <= feature_max[1]) and (feature_value >= feature_min[1])):\n",
    "                    within += 1\n",
    "        dispersionScore += [within*100/1000]\n",
    "    return dispersionScore"
   ]
  },
  {
   "cell_type": "markdown",
   "metadata": {},
   "source": [
    "## KumarSS"
   ]
  },
  {
   "cell_type": "code",
   "execution_count": 43,
   "metadata": {},
   "outputs": [
    {
     "data": {
      "text/plain": [
       "87.79230769230769"
      ]
     },
     "execution_count": 43,
     "metadata": {},
     "output_type": "execute_result"
    }
   ],
   "source": [
    "mean(getDispersionScore(\"results/kumar_features.csv\"))"
   ]
  },
  {
   "cell_type": "markdown",
   "metadata": {},
   "source": [
    "## NaseemSS"
   ]
  },
  {
   "cell_type": "code",
   "execution_count": 44,
   "metadata": {},
   "outputs": [
    {
     "data": {
      "text/plain": [
       "100.0"
      ]
     },
     "execution_count": 44,
     "metadata": {},
     "output_type": "execute_result"
    }
   ],
   "source": [
    "mean(getDispersionScore(\"results/naseem_features.csv\"))"
   ]
  },
  {
   "cell_type": "markdown",
   "metadata": {},
   "source": [
    "## C4S"
   ]
  },
  {
   "cell_type": "code",
   "execution_count": 45,
   "metadata": {},
   "outputs": [
    {
     "data": {
      "text/plain": [
       "99.51538461538462"
      ]
     },
     "execution_count": 45,
     "metadata": {},
     "output_type": "execute_result"
    }
   ],
   "source": [
    "mean(getDispersionScore(\"results/c4s_features.csv\"))"
   ]
  },
  {
   "cell_type": "markdown",
   "metadata": {},
   "source": [
    "# SVM Classification"
   ]
  },
  {
   "cell_type": "code",
   "execution_count": 113,
   "metadata": {},
   "outputs": [],
   "source": [
    "def fitSVM(filepath):\n",
    "    features = pd.read_csv(filepath, index_col=0)\n",
    "    features['pneumonia'] = features['pneumonia'].astype('category')\n",
    "    X_train, X_test, y_train, y_test = train_test_split(features.iloc[:, 1:],features.pneumonia, test_size=0.3, random_state=42)\n",
    "    original_features = pd.read_csv(\"results/original_features.csv\", index_col=0)\n",
    "    X_test = original_features.iloc[:, 1:].loc[X_test.index]\n",
    "    clf = svm.SVC(kernel='poly')\n",
    "    y_pred = clf.fit(X_train, y_train).predict(X_test)\n",
    "    print(\"Accuracy = \", round(accuracy_score(y_test, y_pred)*100,2))\n",
    "    print(\"Specificity = \", round(recall_score(y_test, y_pred, pos_label=0)*100,2))\n",
    "    print(\"Precision = \", round(precision_score(y_test, y_pred)*100,2))\n",
    "    print(\"Recall = \", round(recall_score(y_test, y_pred)*100,2))"
   ]
  },
  {
   "cell_type": "markdown",
   "metadata": {},
   "source": [
    "## Original Cover Image"
   ]
  },
  {
   "cell_type": "code",
   "execution_count": 114,
   "metadata": {},
   "outputs": [
    {
     "name": "stdout",
     "output_type": "stream",
     "text": [
      "Accuracy =  99.0\n",
      "Specificity =  98.67\n",
      "Precision =  98.68\n",
      "Recall =  99.33\n"
     ]
    }
   ],
   "source": [
    "fitSVM(\"results/original_features.csv\")"
   ]
  },
  {
   "cell_type": "markdown",
   "metadata": {},
   "source": [
    "## Stego Image with KumarSS"
   ]
  },
  {
   "cell_type": "code",
   "execution_count": 115,
   "metadata": {},
   "outputs": [
    {
     "name": "stdout",
     "output_type": "stream",
     "text": [
      "Accuracy =  93.67\n",
      "Specificity =  96.67\n",
      "Precision =  96.45\n",
      "Recall =  90.67\n"
     ]
    }
   ],
   "source": [
    "fitSVM(\"results/kumar_features.csv\")"
   ]
  },
  {
   "cell_type": "markdown",
   "metadata": {},
   "source": [
    "## Stego Image with NaseemSS"
   ]
  },
  {
   "cell_type": "code",
   "execution_count": 116,
   "metadata": {},
   "outputs": [
    {
     "name": "stdout",
     "output_type": "stream",
     "text": [
      "Accuracy =  99.0\n",
      "Specificity =  98.67\n",
      "Precision =  98.68\n",
      "Recall =  99.33\n"
     ]
    }
   ],
   "source": [
    "fitSVM(\"results/naseem_features.csv\")"
   ]
  },
  {
   "cell_type": "markdown",
   "metadata": {},
   "source": [
    "## Stego Image with C4S"
   ]
  },
  {
   "cell_type": "code",
   "execution_count": 117,
   "metadata": {},
   "outputs": [
    {
     "name": "stdout",
     "output_type": "stream",
     "text": [
      "Accuracy =  66.33\n",
      "Specificity =  32.67\n",
      "Precision =  59.76\n",
      "Recall =  100.0\n"
     ]
    }
   ],
   "source": [
    "fitSVM(\"results/c4s_features.csv\")"
   ]
  },
  {
   "cell_type": "code",
   "execution_count": null,
   "metadata": {},
   "outputs": [],
   "source": []
  }
 ],
 "metadata": {
  "kernelspec": {
   "display_name": "Python 3",
   "language": "python",
   "name": "python3"
  },
  "language_info": {
   "codemirror_mode": {
    "name": "ipython",
    "version": 3
   },
   "file_extension": ".py",
   "mimetype": "text/x-python",
   "name": "python",
   "nbconvert_exporter": "python",
   "pygments_lexer": "ipython3",
   "version": "3.7.6"
  }
 },
 "nbformat": 4,
 "nbformat_minor": 4
}
